# In[1]:

from sklearn import datasets
from sklearn import metrics
from sklearn.svm import SVC


# In[2]:

# load the iris datasets
dataset = datasets.load_mtcars()

# In[3]:

# fit a SVM model to the data
model = SVC()
model.fit(dataset.data, dataset.target)
print(model)


# In[4]:

get_ipython().magic(u'pinfo SVC')


# In[5]:

expected = dataset.target
predicted = model.predict(dataset.data)


# In[6]:

expected


# In[7]:

predicted 


# In[8]:

print(metrics.classification_report(expected, predicted))


# In[9]:

print(metrics.confusion_matrix(expected, predicted))
